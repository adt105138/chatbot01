{
 "cells": [
  {
   "cell_type": "code",
   "execution_count": 49,
   "metadata": {},
   "outputs": [
    {
     "name": "stdout",
     "output_type": "stream",
     "text": [
      "教育學習的論語編號：[0, 3, 15, 17, 19, 24, 25, 26, 27, 30, 32, 33, 59, 63, 79, 101, 105, 106, 113, 122, 138, 149, 154, 155, 163, 164, 165, 166, 168, 171, 174, 179, 180, 189, 196, 201, 207, 225, 226, 227, 228, 235, 279, 281, 284, 291, 313, 364, 386, 389, 403, 417, 425, 437, 441, 445, 451, 452, 464, 484, 485, 486, 492, 501]\n",
      "數量：64\n",
      "道德與修身養性的論語編號：[2, 8, 12, 13, 14, 28, 29, 31, 37, 39, 42, 46, 66, 67, 68, 69, 70, 71, 72, 73, 74, 75, 76, 77, 80, 81, 82, 87, 88, 89, 90, 91, 92, 93, 94, 95, 96, 97, 98, 99, 100, 102, 103, 104, 107, 108, 110, 111, 114, 115, 116, 117, 118, 119, 120, 121, 123, 124, 125, 126, 127, 128, 129, 130, 132, 133, 135, 136, 137, 139, 140, 141, 143, 144, 145, 146, 147, 148, 150, 157, 158, 159, 161, 162, 169, 170, 172, 173, 175, 176, 177, 183, 185, 186, 188, 190, 191, 194, 200, 206, 209, 211, 213, 216, 218, 219, 222, 223, 224, 230, 231, 232, 233, 234, 236, 262, 263, 264, 265, 266, 267, 268, 269, 270, 272, 273, 274, 275, 276, 277, 278, 280, 282, 283, 285, 286, 287, 288, 289, 293, 295, 297, 298, 301, 305, 306, 307, 308, 309, 315, 317, 322, 327, 328, 329, 330, 331, 332, 333, 334, 335, 336, 337, 340, 341, 342, 343, 344, 345, 346, 347, 348, 349, 350, 351, 352, 353, 354, 355, 356, 357, 358, 359, 360, 361, 363, 367, 368, 369, 370, 371, 372, 373, 374, 375, 376, 377, 378, 379, 380, 381, 384, 385, 388, 390, 391, 392, 394, 395, 396, 398, 399, 400, 401, 402, 404, 405, 406, 407, 408, 409, 410, 411, 412, 413, 414, 415, 416, 418, 419, 420, 421, 422, 423, 426, 427, 428, 430, 432, 433, 434, 435, 436, 438, 439, 440, 444, 446, 447, 448, 449, 450, 454, 455, 456, 457, 458, 459, 461, 462, 465, 466, 467, 468, 469, 470, 471, 472, 473, 474, 476, 477, 478, 479, 480, 481, 482, 483, 487, 488, 489, 490, 491, 494, 495, 498, 499, 500, 502, 503, 504]\n",
      "數量：291\n",
      "孝順的論語編號：[1, 5, 6, 7, 9, 10, 20, 21, 22, 23, 83, 84, 85, 86, 187, 221, 496, 497]\n",
      "數量：18\n",
      "政治的論語編號：[4, 16, 18, 34, 35, 36, 38, 44, 65, 78, 112, 131, 193, 195, 197, 198, 202, 203, 204, 205, 292, 294, 296, 299, 302, 303, 304, 310, 311, 312, 314, 316, 318, 319, 320, 321, 323, 324, 325, 326, 338, 339, 362, 365, 366, 382, 383, 393, 397, 424, 429, 431, 443, 460, 475, 505, 506]\n",
      "數量：57\n",
      "儀態與禮的論語編號：[11, 40, 41, 43, 45, 47, 48, 49, 50, 52, 53, 54, 55, 56, 57, 58, 61, 109, 134, 142, 151, 152, 153, 156, 182, 184, 192, 208, 210, 214, 215, 217, 229, 237, 238, 239, 240, 241, 242, 243, 244, 245, 246, 247, 248, 249, 250, 251, 252, 253, 254, 255, 256, 257, 258, 259, 260, 261, 290, 300, 387, 442, 453, 463, 507]\n",
      "數量：65\n",
      "宗教祭祀與鬼神的論語編號：[51, 60, 167, 181, 271, 493]\n",
      "數量：6\n",
      "樂與藝術的論語編號：[62, 64, 160, 178, 199, 212, 220]\n",
      "數量：7\n"
     ]
    }
   ],
   "source": [
    "import pandas as pd\n",
    "import numpy as np\n",
    "import csv\n",
    "\n",
    "x = []\n",
    "y = []\n",
    "z = []\n",
    "\n",
    "with open(\"allcut.csv\",'r',encoding='utf-8') as csvfile:\n",
    "    plots = csv.reader(csvfile, delimiter=',')\n",
    "    for row in plots:\n",
    "        x.append(row[0])  #從csv讀取的資料是str型別\n",
    "        y.append(row[1]) \n",
    "        z.append(row[2])\n",
    "x=x[1:]\n",
    "y=y[1:]\n",
    "z=z[1:]\n",
    "\n",
    "classify_1=[]\n",
    "classify_2=[]\n",
    "classify_3=[]\n",
    "classify_4=[]\n",
    "classify_5=[]\n",
    "classify_6=[]\n",
    "classify_7=[]\n",
    "\n",
    "for i in range(len(x)):\n",
    "    if x[i]=='教育學習':\n",
    "        classify_1.append(i)\n",
    "    if x[i]=='道德與修身養性':\n",
    "        classify_2.append(i)\n",
    "    if x[i]=='孝順':\n",
    "        classify_3.append(i)\n",
    "    if x[i]=='政治':\n",
    "        classify_4.append(i)\n",
    "    if x[i]=='儀態與禮':\n",
    "        classify_5.append(i)\n",
    "    if x[i]=='宗教祭祀與鬼神':\n",
    "        classify_6.append(i)\n",
    "    if x[i]=='樂與藝術':\n",
    "        classify_7.append(i)\n",
    "print('教育學習的論語編號：{}'.format(classify_1))\n",
    "print('數量：{}'.format(len(classify_1)))\n",
    "\n",
    "print('道德與修身養性的論語編號：{}'.format(classify_2))\n",
    "print('數量：{}'.format(len(classify_2)))\n",
    "\n",
    "print('孝順的論語編號：{}'.format(classify_3))\n",
    "print('數量：{}'.format(len(classify_3)))\n",
    "\n",
    "print('政治的論語編號：{}'.format(classify_4))\n",
    "print('數量：{}'.format(len(classify_4)))\n",
    "\n",
    "print('儀態與禮的論語編號：{}'.format(classify_5))\n",
    "print('數量：{}'.format(len(classify_5)))\n",
    "\n",
    "print('宗教祭祀與鬼神的論語編號：{}'.format(classify_6))\n",
    "print('數量：{}'.format(len(classify_6)))\n",
    "\n",
    "print('樂與藝術的論語編號：{}'.format(classify_7))\n",
    "print('數量：{}'.format(len(classify_7)))\n",
    "\n",
    "\n",
    "\n",
    "    \n"
   ]
  },
  {
   "cell_type": "code",
   "execution_count": 50,
   "metadata": {},
   "outputs": [
    {
     "data": {
      "text/plain": [
       "'教育學習'"
      ]
     },
     "execution_count": 50,
     "metadata": {},
     "output_type": "execute_result"
    }
   ],
   "source": [
    "x[classify_1[0]]"
   ]
  },
  {
   "cell_type": "code",
   "execution_count": 51,
   "metadata": {
    "scrolled": true
   },
   "outputs": [
    {
     "data": {
      "text/plain": [
       "'教育學習'"
      ]
     },
     "execution_count": 51,
     "metadata": {},
     "output_type": "execute_result"
    }
   ],
   "source": [
    "x[classify_1[1]]"
   ]
  },
  {
   "cell_type": "code",
   "execution_count": 53,
   "metadata": {},
   "outputs": [
    {
     "name": "stdout",
     "output_type": "stream",
     "text": [
      "教育學習的論語編號：[9, 10, 82, 87, 150, 224]\n",
      "數量：6\n",
      "道德與修身養性的論語編號：[5, 6, 27, 320, 485, 486]\n",
      "數量：6\n",
      "孝順的論語編號：[]\n",
      "數量：0\n",
      "政治的論語編號：[41, 58, 430]\n",
      "數量：3\n",
      "儀態與禮的論語編號：[12, 20, 88, 144, 186, 203, 270, 286, 433]\n",
      "數量：9\n",
      "宗教祭祀與鬼神的論語編號：[39, 139, 257, 480]\n",
      "數量：4\n",
      "樂與藝術的論語編號：[453]\n",
      "數量：1\n"
     ]
    }
   ],
   "source": [
    "classify2_1=[]\n",
    "classify2_2=[]\n",
    "classify2_3=[]\n",
    "classify2_4=[]\n",
    "classify2_5=[]\n",
    "classify2_6=[]\n",
    "classify2_7=[]\n",
    "\n",
    "for i in range(len(y)):\n",
    "    if y[i]=='教育學習':\n",
    "        classify2_1.append(i)\n",
    "    if y[i]=='道德與修身養性':\n",
    "        classify2_2.append(i)\n",
    "    if y[i]=='孝順':\n",
    "        classify2_3.append(i)\n",
    "    if y[i]=='政治':\n",
    "        classify2_4.append(i)\n",
    "    if y[i]=='儀態與禮':\n",
    "        classify2_5.append(i)\n",
    "    if y[i]=='宗教祭祀與鬼神':\n",
    "        classify2_6.append(i)\n",
    "    if y[i]=='樂與藝術':\n",
    "        classify2_7.append(i)\n",
    "        \n",
    "print('教育學習的論語編號：{}'.format(classify2_1))\n",
    "print('數量：{}'.format(len(classify2_1)))\n",
    "\n",
    "print('道德與修身養性的論語編號：{}'.format(classify2_2))\n",
    "print('數量：{}'.format(len(classify2_2)))\n",
    "\n",
    "print('孝順的論語編號：{}'.format(classify2_3))\n",
    "print('數量：{}'.format(len(classify2_3)))\n",
    "\n",
    "print('政治的論語編號：{}'.format(classify2_4))\n",
    "print('數量：{}'.format(len(classify2_4)))\n",
    "\n",
    "print('儀態與禮的論語編號：{}'.format(classify2_5))\n",
    "print('數量：{}'.format(len(classify2_5)))\n",
    "\n",
    "print('宗教祭祀與鬼神的論語編號：{}'.format(classify2_6))\n",
    "print('數量：{}'.format(len(classify2_6)))\n",
    "\n",
    "print('樂與藝術的論語編號：{}'.format(classify2_7))\n",
    "print('數量：{}'.format(len(classify2_7)))\n"
   ]
  },
  {
   "cell_type": "code",
   "execution_count": null,
   "metadata": {},
   "outputs": [],
   "source": []
  }
 ],
 "metadata": {
  "kernelspec": {
   "display_name": "Python 3",
   "language": "python",
   "name": "python3"
  },
  "language_info": {
   "codemirror_mode": {
    "name": "ipython",
    "version": 3
   },
   "file_extension": ".py",
   "mimetype": "text/x-python",
   "name": "python",
   "nbconvert_exporter": "python",
   "pygments_lexer": "ipython3",
   "version": "3.7.3"
  }
 },
 "nbformat": 4,
 "nbformat_minor": 2
}
