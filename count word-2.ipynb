{
 "cells": [
  {
   "cell_type": "code",
   "execution_count": 2,
   "metadata": {},
   "outputs": [
    {
     "name": "stderr",
     "output_type": "stream",
     "text": [
      "Building prefix dict from /Users/hongyining/testbot/dictionary/testword.txt ...\n",
      "Loading model from cache /var/folders/9m/c2y7c9n93g72xbczzc8l40280000gn/T/jieba.ub5168784b3f273781db7785151313448.cache\n",
      "Loading model cost 0.002 seconds.\n",
      "Prefix dict has been built succesfully.\n"
     ]
    },
    {
     "name": "stdout",
     "output_type": "stream",
     "text": [
      "仁出現次數為\n",
      "27\n",
      "義出現次數為\n",
      "5\n",
      "禮出現次數為\n",
      "5\n",
      "智出現次數為\n",
      "0\n",
      "信出現次數為\n",
      "7\n"
     ]
    }
   ],
   "source": [
    "from PIL import Image\n",
    "import matplotlib.pyplot as plt\n",
    "from wordcloud import WordCloud\n",
    "import jieba\n",
    "import numpy as np\n",
    "from collections import Counter\n",
    "\n",
    "text = open('all.txt', \"r\",encoding=\"utf-8\").read()  #讀文字資料\n",
    " \n",
    "jieba.set_dictionary('dictionary/testword.txt')\n",
    "with open('dictionary/stopword.txt', 'r', encoding='utf-8-sig') as f:  #設定停用詞\n",
    "#with open('dictionary/stopWord_cloudmod.txt', 'r', encoding='utf-8-sig') as f:  #設定停用詞\n",
    "    stops = f.read().split('\\n')   \n",
    "terms = []  #儲存字詞\n",
    "for t in jieba.cut(text, cut_all=False):  #拆解句子為字詞\n",
    "    if t not in stops:  #不是停用詞\n",
    "        terms.append(t)\n",
    "\n",
    "aword = '仁'\n",
    "bword = '義'\n",
    "cword = '禮'\n",
    "dword = '智'\n",
    "eword = '信'\n",
    "\n",
    "\n",
    "print('{}出現次數為'.format(aword))        \n",
    "print(terms.count(aword))\n",
    "print('{}出現次數為'.format(bword))        \n",
    "print(terms.count(bword))\n",
    "print('{}出現次數為'.format(cword))        \n",
    "print(terms.count(cword))\n",
    "print('{}出現次數為'.format(dword))        \n",
    "print(terms.count(dword))\n",
    "print('{}出現次數為'.format(eword))        \n",
    "print(terms.count(eword))\n",
    "\n"
   ]
  },
  {
   "cell_type": "code",
   "execution_count": null,
   "metadata": {},
   "outputs": [],
   "source": []
  }
 ],
 "metadata": {
  "kernelspec": {
   "display_name": "Python 3",
   "language": "python",
   "name": "python3"
  },
  "language_info": {
   "codemirror_mode": {
    "name": "ipython",
    "version": 3
   },
   "file_extension": ".py",
   "mimetype": "text/x-python",
   "name": "python",
   "nbconvert_exporter": "python",
   "pygments_lexer": "ipython3",
   "version": "3.7.3"
  }
 },
 "nbformat": 4,
 "nbformat_minor": 2
}
